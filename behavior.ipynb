{
 "cells": [
  {
   "cell_type": "markdown",
   "metadata": {
    "slideshow": {
     "slide_type": "slide"
    }
   },
   "source": [
    "# 淘宝用户行为分析\n",
    "  **左右键切换页面*\n",
    "                                                                                 \n",
    " ![jupyter](./behavior2.png)\n"
   ]
  },
  {
   "cell_type": "markdown",
   "metadata": {
    "slideshow": {
     "slide_type": "slide"
    }
   },
   "source": [
    "**数据来源**\n",
    "\n",
    "本数据集包含了2017年11月25日至2017年12月3日之间，有行为的约**一个亿**随机用户的所有行为（行为包括点击、购买、加购、喜欢）。数据集的每一行表示一条用户行为，由用户ID、商品ID、商品类目ID、行为类型和时间戳组成，并以逗号分隔。"
   ]
  },
  {
   "cell_type": "markdown",
   "metadata": {
    "slideshow": {
     "slide_type": "slide"
    }
   },
   "source": [
    "## （一）理解数据"
   ]
  },
  {
   "cell_type": "code",
   "execution_count": 1,
   "metadata": {
    "slideshow": {
     "slide_type": "-"
    }
   },
   "outputs": [],
   "source": [
    "#导入所需要的数据库\n",
    "import pandas as pd\n",
    "import numpy as np\n",
    "import os\n",
    "from  datetime import datetime"
   ]
  },
  {
   "cell_type": "code",
   "execution_count": 2,
   "metadata": {
    "slideshow": {
     "slide_type": "-"
    }
   },
   "outputs": [
    {
     "data": {
      "text/plain": [
       "<bound method DataFrame.info of                 0        1        2   3           4\n",
       "0               1  2268318  2520377  pv  1511544070\n",
       "1               1  2333346  2520771  pv  1511561733\n",
       "2               1  2576651   149192  pv  1511572885\n",
       "3               1  3830808  4181361  pv  1511593493\n",
       "4               1  4365585  2520377  pv  1511596146\n",
       "...           ...      ...      ...  ..         ...\n",
       "100150802  999999  4797808    11120  pv  1512293403\n",
       "100150803  999999  4613472  4602841  pv  1512293766\n",
       "100150804  999999  3647364  2304296  pv  1512293792\n",
       "100150805  999999  1903801  2304296  pv  1512293827\n",
       "100150806  999999  3696094  4602841  pv  1512293891\n",
       "\n",
       "[100150807 rows x 5 columns]>"
      ]
     },
     "execution_count": 2,
     "metadata": {},
     "output_type": "execute_result"
    }
   ],
   "source": [
    "#使用pandas库，读取数据\n",
    "userbehavior1 = pd.read_csv('C:/Users/10830/Desktop/用户行为分析/UserBehavior.csv' , header = None)\n",
    "#查看数据信息，源数据为1亿×5列 的矩阵\n",
    "userbehavior1.info"
   ]
  },
  {
   "cell_type": "code",
   "execution_count": 3,
   "metadata": {
    "slideshow": {
     "slide_type": "slide"
    }
   },
   "outputs": [
    {
     "data": {
      "text/plain": [
       "<bound method DataFrame.info of          user_id  item_id  category_id behavior  timestamps\n",
       "0              1  2268318      2520377       pv  1511544070\n",
       "1              1  2333346      2520771       pv  1511561733\n",
       "2              1  2576651       149192       pv  1511572885\n",
       "3              1  3830808      4181361       pv  1511593493\n",
       "4              1  4365585      2520377       pv  1511596146\n",
       "...          ...      ...          ...      ...         ...\n",
       "4999995   309818  5097964      3415753      fav  1511907910\n",
       "4999996   309818  1527236      4397687       pv  1511934598\n",
       "4999997   309818  4056652      3441583      buy  1511957405\n",
       "4999998   309818  1461532      3102419       pv  1511959224\n",
       "4999999   309818  4218902      4145813       pv  1511959412\n",
       "\n",
       "[5000000 rows x 5 columns]>"
      ]
     },
     "execution_count": 3,
     "metadata": {},
     "output_type": "execute_result"
    }
   ],
   "source": [
    "#总共有1亿多条记录，从中取500万条，并加上标题\n",
    "userbehavior = userbehavior1.iloc[:5000000]\n",
    "\n",
    "userbehavior.columns = ['user_id' , 'item_id' ,'category_id' ,'behavior' ,'timestamps']\n",
    "\n",
    "userbehavior.info"
   ]
  },
  {
   "cell_type": "code",
   "execution_count": 4,
   "metadata": {
    "slideshow": {
     "slide_type": "-"
    }
   },
   "outputs": [],
   "source": [
    "userbehavior = userbehavior.copy()"
   ]
  },
  {
   "cell_type": "markdown",
   "metadata": {
    "slideshow": {
     "slide_type": "slide"
    }
   },
   "source": [
    "## (二)数据清洗"
   ]
  },
  {
   "cell_type": "code",
   "execution_count": 5,
   "metadata": {
    "slideshow": {
     "slide_type": "-"
    }
   },
   "outputs": [
    {
     "data": {
      "text/html": [
       "<div>\n",
       "<style scoped>\n",
       "    .dataframe tbody tr th:only-of-type {\n",
       "        vertical-align: middle;\n",
       "    }\n",
       "\n",
       "    .dataframe tbody tr th {\n",
       "        vertical-align: top;\n",
       "    }\n",
       "\n",
       "    .dataframe thead th {\n",
       "        text-align: right;\n",
       "    }\n",
       "</style>\n",
       "<table border=\"1\" class=\"dataframe\">\n",
       "  <thead>\n",
       "    <tr style=\"text-align: right;\">\n",
       "      <th></th>\n",
       "      <th>user_id</th>\n",
       "      <th>item_id</th>\n",
       "      <th>category_id</th>\n",
       "      <th>behavior</th>\n",
       "      <th>date_time</th>\n",
       "      <th>date</th>\n",
       "      <th>time</th>\n",
       "      <th>hour</th>\n",
       "    </tr>\n",
       "  </thead>\n",
       "  <tbody>\n",
       "    <tr>\n",
       "      <th>0</th>\n",
       "      <td>1</td>\n",
       "      <td>2268318</td>\n",
       "      <td>2520377</td>\n",
       "      <td>pv</td>\n",
       "      <td>2017-11-25 01:21:10</td>\n",
       "      <td>2017-11-25</td>\n",
       "      <td>01:21:10</td>\n",
       "      <td>1</td>\n",
       "    </tr>\n",
       "    <tr>\n",
       "      <th>1</th>\n",
       "      <td>1</td>\n",
       "      <td>2333346</td>\n",
       "      <td>2520771</td>\n",
       "      <td>pv</td>\n",
       "      <td>2017-11-25 06:15:33</td>\n",
       "      <td>2017-11-25</td>\n",
       "      <td>06:15:33</td>\n",
       "      <td>6</td>\n",
       "    </tr>\n",
       "    <tr>\n",
       "      <th>2</th>\n",
       "      <td>1</td>\n",
       "      <td>2576651</td>\n",
       "      <td>149192</td>\n",
       "      <td>pv</td>\n",
       "      <td>2017-11-25 09:21:25</td>\n",
       "      <td>2017-11-25</td>\n",
       "      <td>09:21:25</td>\n",
       "      <td>9</td>\n",
       "    </tr>\n",
       "    <tr>\n",
       "      <th>3</th>\n",
       "      <td>1</td>\n",
       "      <td>3830808</td>\n",
       "      <td>4181361</td>\n",
       "      <td>pv</td>\n",
       "      <td>2017-11-25 15:04:53</td>\n",
       "      <td>2017-11-25</td>\n",
       "      <td>15:04:53</td>\n",
       "      <td>15</td>\n",
       "    </tr>\n",
       "    <tr>\n",
       "      <th>4</th>\n",
       "      <td>1</td>\n",
       "      <td>4365585</td>\n",
       "      <td>2520377</td>\n",
       "      <td>pv</td>\n",
       "      <td>2017-11-25 15:49:06</td>\n",
       "      <td>2017-11-25</td>\n",
       "      <td>15:49:06</td>\n",
       "      <td>15</td>\n",
       "    </tr>\n",
       "  </tbody>\n",
       "</table>\n",
       "</div>"
      ],
      "text/plain": [
       "   user_id  item_id  category_id behavior           date_time        date  \\\n",
       "0        1  2268318      2520377       pv 2017-11-25 01:21:10  2017-11-25   \n",
       "1        1  2333346      2520771       pv 2017-11-25 06:15:33  2017-11-25   \n",
       "2        1  2576651       149192       pv 2017-11-25 09:21:25  2017-11-25   \n",
       "3        1  3830808      4181361       pv 2017-11-25 15:04:53  2017-11-25   \n",
       "4        1  4365585      2520377       pv 2017-11-25 15:49:06  2017-11-25   \n",
       "\n",
       "       time  hour  \n",
       "0  01:21:10     1  \n",
       "1  06:15:33     6  \n",
       "2  09:21:25     9  \n",
       "3  15:04:53    15  \n",
       "4  15:49:06    15  "
      ]
     },
     "execution_count": 5,
     "metadata": {},
     "output_type": "execute_result"
    }
   ],
   "source": [
    "#时间戳转换为时间\n",
    "userbehavior['date_time'] = pd.to_datetime(userbehavior['timestamps'],unit='s',origin=pd.Timestamp('1970-01-01 08:00:00'))\n",
    "  ##添加日期、时间\n",
    "userbehavior['date'] = userbehavior['date_time'].dt.date\n",
    "\n",
    "userbehavior['time'] = userbehavior['date_time'].dt.time\n",
    "\n",
    "userbehavior['hour'] = userbehavior['date_time'].dt.hour\n",
    "\n",
    "0-6 表示周一--到周日\n",
    "#serbehavior['weekday'] = userbehavior['date_time'].dt.weekday\n",
    "\n",
    "#删除多余的数据列\n",
    "userbehavior= userbehavior.drop('timestamps',1)\n",
    "\n",
    "userbehavior.head()"
   ]
  },
  {
   "cell_type": "code",
   "execution_count": 6,
   "metadata": {
    "slideshow": {
     "slide_type": "slide"
    }
   },
   "outputs": [
    {
     "data": {
      "text/plain": [
       "user_id        5000000\n",
       "item_id        5000000\n",
       "category_id    5000000\n",
       "behavior       5000000\n",
       "date_time      5000000\n",
       "date           5000000\n",
       "time           5000000\n",
       "hour           5000000\n",
       "dtype: int64"
      ]
     },
     "execution_count": 6,
     "metadata": {},
     "output_type": "execute_result"
    }
   ],
   "source": [
    "#判断是否有缺失值\n",
    "userbehavior.count()\n",
    "\n",
    "#无数据缺失"
   ]
  },
  {
   "cell_type": "code",
   "execution_count": 7,
   "metadata": {
    "slideshow": {
     "slide_type": "-"
    }
   },
   "outputs": [
    {
     "data": {
      "text/plain": [
       "2017-12-02    695571\n",
       "2017-12-03    688212\n",
       "2017-12-01    543503\n",
       "2017-11-26    531632\n",
       "2017-11-30    521171\n",
       "2017-11-25    513950\n",
       "2017-11-29    510913\n",
       "2017-11-27    499919\n",
       "2017-11-28    492497\n",
       "2017-11-24      2008\n",
       "2017-11-23       235\n",
       "2017-11-22        68\n",
       "2017-11-03        64\n",
       "2017-11-20        44\n",
       "2017-11-19        38\n",
       "2017-11-21        37\n",
       "2017-11-18        23\n",
       "2017-11-17        20\n",
       "2018-08-28        16\n",
       "2017-11-16        11\n",
       "2017-12-04         8\n",
       "2017-11-14         7\n",
       "2017-11-11         7\n",
       "2017-11-04         7\n",
       "2017-11-13         7\n",
       "2030-01-16         4\n",
       "2017-11-15         4\n",
       "2017-11-12         4\n",
       "2017-12-06         3\n",
       "2017-07-03         2\n",
       "2017-11-02         2\n",
       "2017-11-10         2\n",
       "2017-09-16         2\n",
       "2017-11-06         1\n",
       "2017-11-05         1\n",
       "2017-10-10         1\n",
       "2037-04-09         1\n",
       "2017-09-11         1\n",
       "2015-02-06         1\n",
       "1970-01-01         1\n",
       "2017-10-07         1\n",
       "2017-10-31         1\n",
       "Name: date, dtype: int64"
      ]
     },
     "execution_count": 7,
     "metadata": {},
     "output_type": "execute_result"
    }
   ],
   "source": [
    "#判断日期是否有异常\n",
    "userbehavior['date'].value_counts()\n",
    "\n",
    "#日期出现异常，源数据中只有2017年11月25日至2017年12月3日的数据"
   ]
  },
  {
   "cell_type": "code",
   "execution_count": 8,
   "metadata": {
    "hide_input": true,
    "slideshow": {
     "slide_type": "slide"
    }
   },
   "outputs": [
    {
     "data": {
      "text/plain": [
       "2017-12-02    695571\n",
       "2017-12-03    688212\n",
       "2017-12-01    543503\n",
       "2017-11-26    531632\n",
       "2017-11-30    521171\n",
       "2017-11-25    513950\n",
       "2017-11-29    510913\n",
       "2017-11-27    499919\n",
       "2017-11-28    492497\n",
       "Name: date, dtype: int64"
      ]
     },
     "execution_count": 8,
     "metadata": {},
     "output_type": "execute_result"
    }
   ],
   "source": [
    "#定义开始日期，结束日期\n",
    "s_date = pd.to_datetime('2017-11-24')\n",
    "e_date = pd.to_datetime('2017-12-04')\n",
    "\n",
    "#只保留正常范围内的数据\n",
    "\n",
    "userbehavior = userbehavior[(userbehavior['date'] > s_date) & (userbehavior['date'] < e_date)  ]\n",
    "\n",
    "#再次判断日期是否还有异常\n",
    "userbehavior['date'].value_counts()"
   ]
  },
  {
   "cell_type": "code",
   "execution_count": 9,
   "metadata": {
    "slideshow": {
     "slide_type": "-"
    }
   },
   "outputs": [
    {
     "data": {
      "text/html": [
       "<div>\n",
       "<style scoped>\n",
       "    .dataframe tbody tr th:only-of-type {\n",
       "        vertical-align: middle;\n",
       "    }\n",
       "\n",
       "    .dataframe tbody tr th {\n",
       "        vertical-align: top;\n",
       "    }\n",
       "\n",
       "    .dataframe thead th {\n",
       "        text-align: right;\n",
       "    }\n",
       "</style>\n",
       "<table border=\"1\" class=\"dataframe\">\n",
       "  <thead>\n",
       "    <tr style=\"text-align: right;\">\n",
       "      <th></th>\n",
       "      <th>user_id</th>\n",
       "      <th>item_id</th>\n",
       "      <th>category_id</th>\n",
       "      <th>behavior</th>\n",
       "      <th>date_time</th>\n",
       "      <th>date</th>\n",
       "      <th>time</th>\n",
       "      <th>hour</th>\n",
       "    </tr>\n",
       "  </thead>\n",
       "  <tbody>\n",
       "    <tr>\n",
       "      <th>0</th>\n",
       "      <td>1</td>\n",
       "      <td>2268318</td>\n",
       "      <td>2520377</td>\n",
       "      <td>pv</td>\n",
       "      <td>2017-11-25 01:21:10</td>\n",
       "      <td>2017-11-25</td>\n",
       "      <td>01:21:10</td>\n",
       "      <td>1</td>\n",
       "    </tr>\n",
       "    <tr>\n",
       "      <th>1</th>\n",
       "      <td>1</td>\n",
       "      <td>2333346</td>\n",
       "      <td>2520771</td>\n",
       "      <td>pv</td>\n",
       "      <td>2017-11-25 06:15:33</td>\n",
       "      <td>2017-11-25</td>\n",
       "      <td>06:15:33</td>\n",
       "      <td>6</td>\n",
       "    </tr>\n",
       "    <tr>\n",
       "      <th>2</th>\n",
       "      <td>1</td>\n",
       "      <td>2576651</td>\n",
       "      <td>149192</td>\n",
       "      <td>pv</td>\n",
       "      <td>2017-11-25 09:21:25</td>\n",
       "      <td>2017-11-25</td>\n",
       "      <td>09:21:25</td>\n",
       "      <td>9</td>\n",
       "    </tr>\n",
       "    <tr>\n",
       "      <th>3</th>\n",
       "      <td>1</td>\n",
       "      <td>3830808</td>\n",
       "      <td>4181361</td>\n",
       "      <td>pv</td>\n",
       "      <td>2017-11-25 15:04:53</td>\n",
       "      <td>2017-11-25</td>\n",
       "      <td>15:04:53</td>\n",
       "      <td>15</td>\n",
       "    </tr>\n",
       "    <tr>\n",
       "      <th>4</th>\n",
       "      <td>1</td>\n",
       "      <td>4365585</td>\n",
       "      <td>2520377</td>\n",
       "      <td>pv</td>\n",
       "      <td>2017-11-25 15:49:06</td>\n",
       "      <td>2017-11-25</td>\n",
       "      <td>15:49:06</td>\n",
       "      <td>15</td>\n",
       "    </tr>\n",
       "  </tbody>\n",
       "</table>\n",
       "</div>"
      ],
      "text/plain": [
       "   user_id  item_id  category_id behavior           date_time        date  \\\n",
       "0        1  2268318      2520377       pv 2017-11-25 01:21:10  2017-11-25   \n",
       "1        1  2333346      2520771       pv 2017-11-25 06:15:33  2017-11-25   \n",
       "2        1  2576651       149192       pv 2017-11-25 09:21:25  2017-11-25   \n",
       "3        1  3830808      4181361       pv 2017-11-25 15:04:53  2017-11-25   \n",
       "4        1  4365585      2520377       pv 2017-11-25 15:49:06  2017-11-25   \n",
       "\n",
       "       time  hour  \n",
       "0  01:21:10     1  \n",
       "1  06:15:33     6  \n",
       "2  09:21:25     9  \n",
       "3  15:04:53    15  \n",
       "4  15:49:06    15  "
      ]
     },
     "execution_count": 9,
     "metadata": {},
     "output_type": "execute_result"
    }
   ],
   "source": [
    "userbehavior.head(5)"
   ]
  },
  {
   "cell_type": "markdown",
   "metadata": {
    "hide_input": true,
    "slideshow": {
     "slide_type": "skip"
    }
   },
   "source": [
    "userbehavior.to_csv('D:/study/behavior/Result1.csv')"
   ]
  },
  {
   "cell_type": "markdown",
   "metadata": {
    "slideshow": {
     "slide_type": "slide"
    }
   },
   "source": [
    "## (三)构建模型 ，分析数据"
   ]
  },
  {
   "cell_type": "markdown",
   "metadata": {
    "slideshow": {
     "slide_type": "-"
    }
   },
   "source": [
    "###  1、用户整体情况分析"
   ]
  },
  {
   "cell_type": "code",
   "execution_count": 10,
   "metadata": {
    "slideshow": {
     "slide_type": "-"
    }
   },
   "outputs": [
    {
     "data": {
      "text/plain": [
       "pv      4472600\n",
       "cart     279512\n",
       "fav      145125\n",
       "buy      100131\n",
       "Name: behavior, dtype: int64"
      ]
     },
     "execution_count": 10,
     "metadata": {},
     "output_type": "execute_result"
    }
   ],
   "source": [
    "#用户各行为的整体点击情况\n",
    "userbehavior['behavior'].value_counts()"
   ]
  },
  {
   "cell_type": "code",
   "execution_count": 11,
   "metadata": {
    "slideshow": {
     "slide_type": "-"
    }
   },
   "outputs": [
    {
     "data": {
      "text/plain": [
       "48984"
      ]
     },
     "execution_count": 11,
     "metadata": {},
     "output_type": "execute_result"
    }
   ],
   "source": [
    "# 用户数量（UV）\n",
    "UV = len(userbehavior['user_id'].unique())\n",
    "UV"
   ]
  },
  {
   "cell_type": "code",
   "execution_count": 12,
   "metadata": {
    "slideshow": {
     "slide_type": "slide"
    }
   },
   "outputs": [
    {
     "data": {
      "text/plain": [
       "pv    4472600\n",
       "Name: behavior, dtype: int64"
      ]
     },
     "execution_count": 12,
     "metadata": {},
     "output_type": "execute_result"
    }
   ],
   "source": [
    "#用户浏览量（PV）\n",
    "PV = userbehavior[userbehavior['behavior'] == 'pv']['behavior'].value_counts()\n",
    "PV"
   ]
  },
  {
   "cell_type": "code",
   "execution_count": 13,
   "metadata": {
    "slideshow": {
     "slide_type": "-"
    }
   },
   "outputs": [
    {
     "data": {
      "text/plain": [
       "pv    91.307366\n",
       "Name: behavior, dtype: float64"
      ]
     },
     "execution_count": 13,
     "metadata": {},
     "output_type": "execute_result"
    }
   ],
   "source": [
    "#平均访问量  每个用户平均访问量72个页面\n",
    "PV/UV"
   ]
  },
  {
   "cell_type": "code",
   "execution_count": 14,
   "metadata": {
    "slideshow": {
     "slide_type": "-"
    }
   },
   "outputs": [
    {
     "data": {
      "text/plain": [
       "2871"
      ]
     },
     "execution_count": 14,
     "metadata": {},
     "output_type": "execute_result"
    }
   ],
   "source": [
    "#跳失率（只有点击行为的用户/总用户数）\n",
    "stay = ['fav' ,'buy' , 'cart']\n",
    "lost = UV - len(userbehavior[userbehavior['behavior'].isin(stay)]['user_id'].unique())\n",
    "lost"
   ]
  },
  {
   "cell_type": "code",
   "execution_count": 15,
   "metadata": {
    "slideshow": {
     "slide_type": "-"
    }
   },
   "outputs": [
    {
     "data": {
      "text/plain": [
       "0.0586109750122489"
      ]
     },
     "execution_count": 15,
     "metadata": {},
     "output_type": "execute_result"
    }
   ],
   "source": [
    "#8%的跳失率，不高，商品对于用户有一定的吸引力\n",
    "lost_rate = lost / UV\n",
    "lost_rate"
   ]
  },
  {
   "cell_type": "code",
   "execution_count": 16,
   "metadata": {
    "slideshow": {
     "slide_type": "slide"
    }
   },
   "outputs": [
    {
     "data": {
      "text/plain": [
       "date\n",
       "2017-11-25    461171\n",
       "2017-11-26    476245\n",
       "2017-11-27    446740\n",
       "2017-11-28    440340\n",
       "2017-11-29    456976\n",
       "2017-11-30    467215\n",
       "2017-12-01    486101\n",
       "2017-12-02    622231\n",
       "2017-12-03    615581\n",
       "Name: behavior, dtype: int64"
      ]
     },
     "execution_count": 16,
     "metadata": {},
     "output_type": "execute_result"
    }
   ],
   "source": [
    "#用户每天的访问情况\n",
    "userbehavior[userbehavior['behavior'] == 'pv']['behavior'].groupby(userbehavior['date']).count()"
   ]
  },
  {
   "cell_type": "code",
   "execution_count": 17,
   "metadata": {
    "slideshow": {
     "slide_type": "slide"
    }
   },
   "outputs": [
    {
     "data": {
      "text/plain": [
       "<matplotlib.axes._subplots.AxesSubplot at 0x20c8cb44748>"
      ]
     },
     "execution_count": 17,
     "metadata": {},
     "output_type": "execute_result"
    },
    {
     "data": {
      "image/png": "[encoded data removed]",
      "text/plain": [
       "<Figure size 720x360 with 1 Axes>"
      ]
     },
     "metadata": {
      "needs_background": "light"
     },
     "output_type": "display_data"
    }
   ],
   "source": [
    "#可视化展示\n",
    "import matplotlib.pyplot as plt\n",
    "import seaborn as sns \n",
    "%matplotlib inline \n",
    "plt.rcParams['font.sans-serif'] = ['simhei']  #正常显示中文\n",
    "plt.figure(figsize = (10,5))  #画布大小\n",
    "plt.tick_params(labelsize=10)  #标签字体大小\n",
    "plt.title('每日用户访问量(PV)',fontsize =18 )\n",
    "sns.countplot(x = 'date',data=userbehavior[userbehavior['behavior'] == 'pv'] , color ='lightpink')"
   ]
  },
  {
   "cell_type": "code",
   "execution_count": 18,
   "metadata": {
    "slideshow": {
     "slide_type": "slide"
    }
   },
   "outputs": [
    {
     "data": {
      "text/plain": [
       "date\n",
       "2017-11-25    34903\n",
       "2017-11-26    35466\n",
       "2017-11-27    35138\n",
       "2017-11-28    35216\n",
       "2017-11-29    35768\n",
       "2017-11-30    36416\n",
       "2017-12-01    36719\n",
       "2017-12-02    48092\n",
       "2017-12-03    47966\n",
       "Name: user_id, dtype: int64"
      ]
     },
     "execution_count": 18,
     "metadata": {},
     "output_type": "execute_result"
    }
   ],
   "source": [
    "#每日用户数（UV）\n",
    "userbehavior1 = userbehavior.drop_duplicates(['user_id' ,'date'])  #去重\n",
    "userbehavior1['user_id'].groupby(userbehavior1['date']).count()"
   ]
  },
  {
   "cell_type": "code",
   "execution_count": 19,
   "metadata": {
    "slideshow": {
     "slide_type": "slide"
    }
   },
   "outputs": [
    {
     "data": {
      "text/plain": [
       "<matplotlib.axes._subplots.AxesSubplot at 0x20c8dbaae48>"
      ]
     },
     "execution_count": 19,
     "metadata": {},
     "output_type": "execute_result"
    },
    {
     "data": {
      "image/png": "[encoded data removed]",
      "text/plain": [
       "<Figure size 720x360 with 1 Axes>"
      ]
     },
     "metadata": {
      "needs_background": "light"
     },
     "output_type": "display_data"
    }
   ],
   "source": [
    "#每日访客量可视化展示\n",
    "plt.rcParams['font.sans-serif'] = ['simhei']\n",
    "plt.figure(figsize = (10,5))  #画布大小\n",
    "plt.tick_params(labelsize=10)  #标签字体大小\n",
    "plt.title('每日用户数（UV）',fontsize =18 )\n",
    "sns.countplot(x = 'date',data=userbehavior1[userbehavior1['behavior'] == 'pv'] , color ='lightpink')"
   ]
  },
  {
   "cell_type": "code",
   "execution_count": 20,
   "metadata": {
    "scrolled": true,
    "slideshow": {
     "slide_type": "slide"
    }
   },
   "outputs": [
    {
     "data": {
      "text/plain": [
       "hour\n",
       "0     15616\n",
       "1      8050\n",
       "2      4781\n",
       "3      3424\n",
       "4      3068\n",
       "5      4082\n",
       "6      8808\n",
       "7     16377\n",
       "8     22057\n",
       "9     25856\n",
       "10    28611\n",
       "11    29178\n",
       "12    29516\n",
       "13    30095\n",
       "14    29410\n",
       "15    30014\n",
       "16    29668\n",
       "17    28912\n",
       "18    28909\n",
       "19    30978\n",
       "20    33039\n",
       "21    33835\n",
       "22    32146\n",
       "23    25330\n",
       "Name: user_id, dtype: int64"
      ]
     },
     "execution_count": 20,
     "metadata": {},
     "output_type": "execute_result"
    }
   ],
   "source": [
    "#每个时段的用户数（UV）\n",
    "userbehavior1 =  userbehavior.drop_duplicates(['user_id' ,'hour'])  #去重\n",
    "userbehavior1['user_id'].groupby(userbehavior1['hour']).count()"
   ]
  },
  {
   "cell_type": "code",
   "execution_count": 21,
   "metadata": {
    "scrolled": true,
    "slideshow": {
     "slide_type": "slide"
    }
   },
   "outputs": [
    {
     "data": {
      "text/plain": [
       "hour\n",
       "0     149884\n",
       "1      68467\n",
       "2      37536\n",
       "3      26422\n",
       "4      22544\n",
       "5      28039\n",
       "6      60113\n",
       "7     111536\n",
       "8     154485\n",
       "9     188798\n",
       "10    216260\n",
       "11    210669\n",
       "12    213208\n",
       "13    234846\n",
       "14    230455\n",
       "15    239338\n",
       "16    230376\n",
       "17    208410\n",
       "18    216937\n",
       "19    271283\n",
       "20    329245\n",
       "21    376778\n",
       "22    368819\n",
       "23    278152\n",
       "Name: behavior, dtype: int64"
      ]
     },
     "execution_count": 21,
     "metadata": {},
     "output_type": "execute_result"
    }
   ],
   "source": [
    "#每个时段访问量（PV）\n",
    "userbehavior[userbehavior['behavior']=='pv']['behavior'].groupby(userbehavior['hour']).count()"
   ]
  },
  {
   "cell_type": "code",
   "execution_count": 22,
   "metadata": {
    "slideshow": {
     "slide_type": "slide"
    }
   },
   "outputs": [
    {
     "data": {
      "text/plain": [
       "<matplotlib.legend.Legend at 0x20c8e51ed30>"
      ]
     },
     "execution_count": 22,
     "metadata": {},
     "output_type": "execute_result"
    },
    {
     "data": {
      "image/png": "[encoded data removed]",
      "text/plain": [
       "<Figure size 720x360 with 2 Axes>"
      ]
     },
     "metadata": {
      "needs_background": "light"
     },
     "output_type": "display_data"
    }
   ],
   "source": [
    "#可视化\n",
    "plt.rcParams['font.sans-serif'] = ['simhei']\n",
    "plt.figure(figsize = (10,5))  #画布大小\n",
    "plt.tick_params(labelsize=10)  #标签字体大小\n",
    "plt.title('每个时段访客量/用户数',fontsize =18 )\n",
    "ax1 = sns.countplot(x='hour',data=userbehavior[userbehavior['behavior']=='pv'],color=\"lightpink\",label ='访问量')\n",
    "plt.legend(loc='center',bbox_to_anchor=(1.15,0.95))\n",
    "ax2 = ax1.twinx() \n",
    "sns.countplot(x='hour',data = userbehavior1,facecolor=(0, 0, 0, 0),linewidth=0.5,edgecolor='darkblue', ax=ax2,label ='用户数')\n",
    "plt.legend(loc='center',bbox_to_anchor=(1.15,0.86))"
   ]
  },
  {
   "cell_type": "markdown",
   "metadata": {
    "slideshow": {
     "slide_type": "-"
    }
   },
   "source": [
    "- 用户数与访问量在1-6时（大多数人处于睡眠休息阶段时)都较低\n",
    "- 19 - 22时达到访问量高峰，猜测是下班后浏览购物网站放松\n",
    "- 在10-18时用户数比较高，也很稳定，但该阶段访问量不高，可能是用户上班休息时间打开了淘宝但没时间大量浏览和购买商品，晚上是用户的访问高峰期"
   ]
  },
  {
   "cell_type": "code",
   "execution_count": 23,
   "metadata": {
    "scrolled": true,
    "slideshow": {
     "slide_type": "slide"
    }
   },
   "outputs": [
    {
     "data": {
      "text/plain": [
       "hour\n",
       "0     2916\n",
       "1     1101\n",
       "2      603\n",
       "3      302\n",
       "4      328\n",
       "5      380\n",
       "6      922\n",
       "7     1845\n",
       "8     3186\n",
       "9     4775\n",
       "10    6383\n",
       "11    6185\n",
       "12    5883\n",
       "13    6225\n",
       "14    5981\n",
       "15    6102\n",
       "16    5756\n",
       "17    5156\n",
       "18    4703\n",
       "19    5680\n",
       "20    6743\n",
       "21    7194\n",
       "22    6839\n",
       "23    4943\n",
       "Name: behavior, dtype: int64"
      ]
     },
     "execution_count": 23,
     "metadata": {},
     "output_type": "execute_result"
    }
   ],
   "source": [
    "userbehavior[userbehavior['behavior']=='buy']['behavior'].groupby(userbehavior['hour']).count()"
   ]
  },
  {
   "cell_type": "code",
   "execution_count": 24,
   "metadata": {
    "slideshow": {
     "slide_type": "slide"
    }
   },
   "outputs": [
    {
     "data": {
      "text/plain": [
       "<matplotlib.axes._subplots.AxesSubplot at 0x20c9f1a38d0>"
      ]
     },
     "execution_count": 24,
     "metadata": {},
     "output_type": "execute_result"
    },
    {
     "data": {
      "image/png": "[encoded data removed]",
      "text/plain": [
       "<Figure size 720x360 with 1 Axes>"
      ]
     },
     "metadata": {
      "needs_background": "light"
     },
     "output_type": "display_data"
    }
   ],
   "source": [
    "#可视化\n",
    "plt.figure(figsize=(10, 5))#调整画布大小\n",
    "plt.tick_params(labelsize=10)#调整标签字体大小\n",
    "plt.title('每个时段成交量',fontsize =18 )\n",
    "sns.countplot(x='hour',data=userbehavior[userbehavior['behavior']=='buy'],color=\"lightpink\")\n",
    "\n",
    "#10点-16点、20点-22点两个时间段的成交量最高"
   ]
  },
  {
   "cell_type": "markdown",
   "metadata": {
    "slideshow": {
     "slide_type": "slide"
    }
   },
   "source": [
    "###  2、商品购买情况"
   ]
  },
  {
   "cell_type": "code",
   "execution_count": 25,
   "metadata": {
    "slideshow": {
     "slide_type": "-"
    }
   },
   "outputs": [
    {
     "data": {
      "text/plain": [
       "date\n",
       "2017-11-25     9890\n",
       "2017-11-26    10092\n",
       "2017-11-27    11088\n",
       "2017-11-28    10562\n",
       "2017-11-29    11145\n",
       "2017-11-30    11007\n",
       "2017-12-01    10509\n",
       "2017-12-02    12885\n",
       "2017-12-03    12953\n",
       "Name: behavior, dtype: int64"
      ]
     },
     "execution_count": 25,
     "metadata": {},
     "output_type": "execute_result"
    }
   ],
   "source": [
    "#不同日期成交量\n",
    "userbehavior[userbehavior['behavior']=='buy']['behavior'].groupby(userbehavior['date']).count()"
   ]
  },
  {
   "cell_type": "code",
   "execution_count": 26,
   "metadata": {
    "slideshow": {
     "slide_type": "slide"
    }
   },
   "outputs": [
    {
     "data": {
      "text/plain": [
       "<matplotlib.axes._subplots.AxesSubplot at 0x20c9f245e48>"
      ]
     },
     "execution_count": 26,
     "metadata": {},
     "output_type": "execute_result"
    },
    {
     "data": {
      "image/png": "[encoded data removed]",
      "text/plain": [
       "<Figure size 720x360 with 1 Axes>"
      ]
     },
     "metadata": {
      "needs_background": "light"
     },
     "output_type": "display_data"
    }
   ],
   "source": [
    "plt.figure(figsize=(10, 5))#调整画布大小\n",
    "plt.tick_params(labelsize=10)#调整标签字体大小\n",
    "plt.title('不同日期成交量',fontsize =18 )\n",
    "sns.countplot(x='date',data=userbehavior[userbehavior['behavior']=='buy'],color=\"lightpink\",order = \n",
    "              ['2017-11-25','2017-11-26','2017-11-27','2017-11-28','2017-11-29','2017-11-30',\n",
    "               '2017-12-01','2017-12-02','2017-12-03'])"
   ]
  },
  {
   "cell_type": "markdown",
   "metadata": {
    "slideshow": {
     "slide_type": "-"
    }
   },
   "source": [
    "- 2017年12月3日和2017年12月2日成交量较高，刚是周六和周日。周末人们空闲时间较多，网购下单量更高。"
   ]
  },
  {
   "cell_type": "code",
   "execution_count": 27,
   "metadata": {
    "slideshow": {
     "slide_type": "slide"
    }
   },
   "outputs": [
    {
     "data": {
      "text/plain": [
       "3.0082016463378"
      ]
     },
     "execution_count": 27,
     "metadata": {},
     "output_type": "execute_result"
    }
   ],
   "source": [
    "#人均购买次数\n",
    "len(userbehavior[userbehavior['behavior']=='buy'])/len(userbehavior[userbehavior['behavior']=='buy']['user_id'].unique())\n",
    "\n",
    "#人均购买次数为3次，次数较高"
   ]
  },
  {
   "cell_type": "markdown",
   "metadata": {
    "slideshow": {
     "slide_type": "-"
    }
   },
   "source": [
    "##### 复购率 = 购买2次及以上用户数/总购买用户数\n"
   ]
  },
  {
   "cell_type": "code",
   "execution_count": 28,
   "metadata": {
    "slideshow": {
     "slide_type": "-"
    }
   },
   "outputs": [
    {
     "data": {
      "text/plain": [
       "21892"
      ]
     },
     "execution_count": 28,
     "metadata": {},
     "output_type": "execute_result"
    }
   ],
   "source": [
    "#购买2次以上用户数计算\n",
    "two = userbehavior[userbehavior['behavior']=='buy'].groupby('user_id').count()>1\n",
    "rebuy = two[two['behavior'] == True].index\n",
    "len(rebuy)"
   ]
  },
  {
   "cell_type": "code",
   "execution_count": 29,
   "metadata": {
    "slideshow": {
     "slide_type": "-"
    }
   },
   "outputs": [
    {
     "data": {
      "text/plain": [
       "0.6576939253740312"
      ]
     },
     "execution_count": 29,
     "metadata": {},
     "output_type": "execute_result"
    }
   ],
   "source": [
    "#复购率\n",
    "len(rebuy)/len(userbehavior[userbehavior['behavior']=='buy']['user_id'].unique())"
   ]
  },
  {
   "cell_type": "code",
   "execution_count": 30,
   "metadata": {
    "slideshow": {
     "slide_type": "slide"
    }
   },
   "outputs": [
    {
     "data": {
      "text/plain": [
       "3122135    71\n",
       "3031354    41\n",
       "2964774    35\n",
       "1116492    31\n",
       "257772     30\n",
       "1415828    30\n",
       "1910706    29\n",
       "2560262    28\n",
       "1034594    27\n",
       "1042152    27\n",
       "Name: item_id, dtype: int64"
      ]
     },
     "execution_count": 30,
     "metadata": {},
     "output_type": "execute_result"
    }
   ],
   "source": [
    "#重复被购买得最多次的商品\n",
    "userbehavior[userbehavior['behavior']=='buy']['item_id'].value_counts().head(10)"
   ]
  },
  {
   "cell_type": "markdown",
   "metadata": {
    "slideshow": {
     "slide_type": "-"
    }
   },
   "source": [
    "- 对于受欢迎的商品，可将其作为主打商品进行宣称"
   ]
  },
  {
   "cell_type": "code",
   "execution_count": 31,
   "metadata": {
    "slideshow": {
     "slide_type": "slide"
    }
   },
   "outputs": [
    {
     "data": {
      "text/plain": [
       "234304     84\n",
       "107932     72\n",
       "122504     69\n",
       "128379     65\n",
       "190873     61\n",
       "242650     61\n",
       "1008380    57\n",
       "165222     51\n",
       "140047     47\n",
       "263777     45\n",
       "Name: user_id, dtype: int64"
      ]
     },
     "execution_count": 31,
     "metadata": {},
     "output_type": "execute_result"
    }
   ],
   "source": [
    "#重复购买次数最多的客户\n",
    "userbehavior[userbehavior['behavior']=='buy']['user_id'].value_counts().head(10)"
   ]
  },
  {
   "cell_type": "markdown",
   "metadata": {
    "slideshow": {
     "slide_type": "-"
    }
   },
   "source": [
    "- 对于忠实的用户可开发用户信息库，建立完善的用户资料库，记录客户购物情况。\n",
    "- 引导其中非会员用户成为会员用户，定期予以激励刺激"
   ]
  },
  {
   "cell_type": "markdown",
   "metadata": {
    "slideshow": {
     "slide_type": "slide"
    }
   },
   "source": [
    "###  3、用户行为转化漏斗分析"
   ]
  },
  {
   "cell_type": "code",
   "execution_count": 32,
   "metadata": {
    "slideshow": {
     "slide_type": "-"
    }
   },
   "outputs": [
    {
     "data": {
      "text/plain": [
       "<matplotlib.axes._subplots.AxesSubplot at 0x20ca97dfa58>"
      ]
     },
     "execution_count": 32,
     "metadata": {},
     "output_type": "execute_result"
    },
    {
     "data": {
      "image/png": "[encoded data removed]",
      "text/plain": [
       "<Figure size 432x288 with 1 Axes>"
      ]
     },
     "metadata": {
      "needs_background": "light"
     },
     "output_type": "display_data"
    }
   ],
   "source": [
    "plt.title('总量漏斗图',fontsize =18 )\n",
    "sns.countplot(y='behavior',data = userbehavior,color=\"lightpink\",order=['pv','cart','fav','buy'])"
   ]
  },
  {
   "cell_type": "code",
   "execution_count": 33,
   "metadata": {
    "slideshow": {
     "slide_type": "-"
    }
   },
   "outputs": [
    {
     "data": {
      "text/plain": [
       "pv      4472600\n",
       "cart     279512\n",
       "fav      145125\n",
       "buy      100131\n",
       "Name: behavior, dtype: int64"
      ]
     },
     "execution_count": 33,
     "metadata": {},
     "output_type": "execute_result"
    }
   ],
   "source": [
    "userbehavior['behavior'].value_counts()"
   ]
  },
  {
   "cell_type": "code",
   "execution_count": 34,
   "metadata": {
    "slideshow": {
     "slide_type": "slide"
    }
   },
   "outputs": [
    {
     "data": {
      "text/plain": [
       "4472600"
      ]
     },
     "execution_count": 34,
     "metadata": {},
     "output_type": "execute_result"
    }
   ],
   "source": [
    "pv = len(userbehavior[userbehavior['behavior']=='pv'])\n",
    "pv"
   ]
  },
  {
   "cell_type": "code",
   "execution_count": 35,
   "metadata": {
    "slideshow": {
     "slide_type": "-"
    }
   },
   "outputs": [
    {
     "data": {
      "text/plain": [
       "100131"
      ]
     },
     "execution_count": 35,
     "metadata": {},
     "output_type": "execute_result"
    }
   ],
   "source": [
    "buy = len(userbehavior[userbehavior['behavior']=='buy'])\n",
    "buy"
   ]
  },
  {
   "cell_type": "code",
   "execution_count": 36,
   "metadata": {
    "slideshow": {
     "slide_type": "-"
    }
   },
   "outputs": [
    {
     "data": {
      "text/plain": [
       "0.022387649242051604"
      ]
     },
     "execution_count": 36,
     "metadata": {},
     "output_type": "execute_result"
    }
   ],
   "source": [
    " buy/pv"
   ]
  },
  {
   "cell_type": "markdown",
   "metadata": {
    "slideshow": {
     "slide_type": "-"
    }
   },
   "source": [
    "- 流失率为2.2%，用户在浏览商品详情页后出现了大量的流失。"
   ]
  },
  {
   "cell_type": "markdown",
   "metadata": {
    "slideshow": {
     "slide_type": "slide"
    }
   },
   "source": [
    "#加入购物车和收藏商品并没有行为的先后性，也就是说，购物路线可以有两条：\n",
    "- 第一条线路：浏览—加入购物车—购买\n",
    "- 第二条线路：浏览—添加收藏—购买"
   ]
  },
  {
   "cell_type": "markdown",
   "metadata": {
    "slideshow": {
     "slide_type": "-"
    }
   },
   "source": [
    "(1)按照线路一来购买\n",
    " - 购物车转化率=加入购物车后购买的用户数/加入购物车的用户数"
   ]
  },
  {
   "cell_type": "code",
   "execution_count": 37,
   "metadata": {
    "slideshow": {
     "slide_type": "slide"
    }
   },
   "outputs": [
    {
     "name": "stdout",
     "output_type": "stream",
     "text": [
      "<class 'pandas.core.frame.DataFrame'>\n",
      "Int64Index: 20225 entries, 0 to 20224\n",
      "Data columns (total 13 columns):\n",
      " #   Column       Non-Null Count  Dtype         \n",
      "---  ------       --------------  -----         \n",
      " 0   user_id      20225 non-null  int64         \n",
      " 1   item_id      20225 non-null  int64         \n",
      " 2   category_id  20225 non-null  int64         \n",
      " 3   behavior_x   20225 non-null  object        \n",
      " 4   date_time_x  20225 non-null  datetime64[ns]\n",
      " 5   date_x       20225 non-null  object        \n",
      " 6   time_x       20225 non-null  object        \n",
      " 7   hour_x       20225 non-null  int64         \n",
      " 8   behavior_y   20225 non-null  object        \n",
      " 9   date_time_y  20225 non-null  datetime64[ns]\n",
      " 10  date_y       20225 non-null  object        \n",
      " 11  time_y       20225 non-null  object        \n",
      " 12  hour_y       20225 non-null  int64         \n",
      "dtypes: datetime64[ns](2), int64(5), object(6)\n",
      "memory usage: 2.2+ MB\n"
     ]
    }
   ],
   "source": [
    "userbehavior2 = userbehavior[userbehavior['behavior']=='cart'] #加购数据\n",
    "userbehavior3 = userbehavior[userbehavior['behavior']=='buy']#购买数据\n",
    "userbehavior4 = pd.merge(userbehavior2,userbehavior3,on=['user_id','item_id','category_id'])#同一用户同一商品既加购又购买数据\n",
    "userbehavior4.info()"
   ]
  },
  {
   "cell_type": "code",
   "execution_count": 38,
   "metadata": {
    "slideshow": {
     "slide_type": "slide"
    }
   },
   "outputs": [
    {
     "data": {
      "text/plain": [
       "11552"
      ]
     },
     "execution_count": 38,
     "metadata": {},
     "output_type": "execute_result"
    }
   ],
   "source": [
    "len(userbehavior4['user_id'].unique())#既加购又购买的数据"
   ]
  },
  {
   "cell_type": "code",
   "execution_count": 39,
   "metadata": {
    "slideshow": {
     "slide_type": "-"
    }
   },
   "outputs": [
    {
     "data": {
      "text/plain": [
       "8106"
      ]
     },
     "execution_count": 39,
     "metadata": {},
     "output_type": "execute_result"
    }
   ],
   "source": [
    "userbehavior5 = userbehavior4[userbehavior4['date_x'] < userbehavior4['date_y']]#同一用户同一商品先加购再购买数据\n",
    "#加入购物车后购买的用户数\n",
    "cart_buy = len(userbehavior5['user_id'].unique())\n",
    "cart_buy"
   ]
  },
  {
   "cell_type": "code",
   "execution_count": 40,
   "metadata": {
    "slideshow": {
     "slide_type": "-"
    }
   },
   "outputs": [
    {
     "data": {
      "text/plain": [
       "36906"
      ]
     },
     "execution_count": 40,
     "metadata": {},
     "output_type": "execute_result"
    }
   ],
   "source": [
    "#加入购物车的用户数\n",
    "cart = len(userbehavior[userbehavior['behavior']=='cart']['user_id'].unique())\n",
    "cart"
   ]
  },
  {
   "cell_type": "code",
   "execution_count": 41,
   "metadata": {
    "slideshow": {
     "slide_type": "-"
    }
   },
   "outputs": [
    {
     "data": {
      "text/plain": [
       "0.21963908307592261"
      ]
     },
     "execution_count": 41,
     "metadata": {},
     "output_type": "execute_result"
    }
   ],
   "source": [
    "cart_buy/cart"
   ]
  },
  {
   "cell_type": "markdown",
   "metadata": {
    "slideshow": {
     "slide_type": "slide"
    }
   },
   "source": [
    "加入购物车的用户中，有22%会进行购买。\n",
    "\n",
    "用户加入购物车后没有购买原因可能有：\n",
    "\n",
    "- 加入购物车是为了与不同店铺的同种产品进行比价\n",
    "- 为了凑单，进行满减\n",
    "- 先放着，过几天再购买\n",
    "- 等活动优惠"
   ]
  },
  {
   "cell_type": "code",
   "execution_count": 42,
   "metadata": {
    "slideshow": {
     "slide_type": "-"
    }
   },
   "outputs": [
    {
     "data": {
      "text/plain": [
       "0.21225042023697266"
      ]
     },
     "execution_count": 42,
     "metadata": {},
     "output_type": "execute_result"
    }
   ],
   "source": [
    "#用户浏览到加入购物车\n",
    "userbehavior6 = pd.merge(userbehavior[userbehavior['behavior']=='pv'],userbehavior[userbehavior['behavior']=='cart'],\n",
    "               on=['user_id','item_id','category_id'])#同一用户同一商品既浏览又加购数据\n",
    "userbehavior6 = userbehavior6[userbehavior6['date_x'] < userbehavior6['date_y']]#同一用户同一商品先浏览再加购数据\n",
    "pv_cart = len(userbehavior6['user_id'].unique())/len(userbehavior[userbehavior['behavior']=='pv']['user_id'].unique())#用户浏览加入购物车的转化率\n",
    "pv_cart "
   ]
  },
  {
   "cell_type": "markdown",
   "metadata": {
    "slideshow": {
     "slide_type": "-"
    }
   },
   "source": [
    "- 用户浏览到加入购物车的转化率约为21.22%"
   ]
  },
  {
   "cell_type": "markdown",
   "metadata": {
    "slideshow": {
     "slide_type": "slide"
    }
   },
   "source": [
    "(2)浏览—加入购物车转化率\n",
    " - 购物车转化率=加入购物车后购买的用户数/加入购物车的用户数"
   ]
  },
  {
   "cell_type": "code",
   "execution_count": 43,
   "metadata": {
    "slideshow": {
     "slide_type": "-"
    }
   },
   "outputs": [
    {
     "data": {
      "text/plain": [
       "0.09523320847657653"
      ]
     },
     "execution_count": 43,
     "metadata": {},
     "output_type": "execute_result"
    }
   ],
   "source": [
    "#收藏-购买\n",
    "userbehavior7 = pd.merge(userbehavior[userbehavior['behavior']=='fav'],userbehavior[userbehavior['behavior']=='buy'],\n",
    "               on = ['user_id','item_id','category_id'])#同一用户同一商品既收藏又购买数据\n",
    "userbehavior7 = userbehavior7[userbehavior7['date_x'] < userbehavior7['date_y']]#同一用户同一商品先浏览再加购数据\n",
    "fav_buy = len(userbehavior7['user_id'].unique())/len(userbehavior[userbehavior['behavior']=='fav']['user_id'].unique())#用户购买收藏的转化率\n",
    "fav_buy "
   ]
  },
  {
   "cell_type": "markdown",
   "metadata": {
    "slideshow": {
     "slide_type": "-"
    }
   },
   "source": [
    "- 9.5%的收藏转换为了购买量"
   ]
  },
  {
   "cell_type": "code",
   "execution_count": 44,
   "metadata": {
    "slideshow": {
     "slide_type": "slide"
    }
   },
   "outputs": [
    {
     "data": {
      "text/plain": [
       "0.08820876552826862"
      ]
     },
     "execution_count": 44,
     "metadata": {},
     "output_type": "execute_result"
    }
   ],
   "source": [
    "#浏览-收藏\n",
    "userbehavior8 = pd.merge(userbehavior[userbehavior['behavior']=='pv'],userbehavior[userbehavior['behavior']=='fav'],\n",
    "               on = ['user_id','item_id','category_id'])#同一用户同一商品既浏览又收藏数据\n",
    "userbehavior8 =userbehavior8[userbehavior8['date_x'] < userbehavior8['date_y']]#同一用户同一商品先浏览再收藏数据\n",
    "pv_fav = len(userbehavior8['user_id'].unique())/len(userbehavior[userbehavior['behavior']=='pv']['user_id'].unique())#用户浏览加入收藏的转化率\n",
    "pv_fav"
   ]
  },
  {
   "cell_type": "markdown",
   "metadata": {
    "slideshow": {
     "slide_type": "-"
    }
   },
   "source": [
    "- 8.9%的浏览转换为了收藏"
   ]
  },
  {
   "cell_type": "code",
   "execution_count": 45,
   "metadata": {
    "slideshow": {
     "slide_type": "slide"
    }
   },
   "outputs": [
    {
     "name": "stdout",
     "output_type": "stream",
     "text": [
      "\n",
      " 路线一： \n",
      " 用户点击后收藏占比：8.82% \n",
      " 用户收藏后购买占比：9.52% \n",
      " 路线二： \n",
      " 用户点击后加购物车占比：21.23% \n",
      " 用户加购物车后购买占比：21.96%\n"
     ]
    }
   ],
   "source": [
    "print('\\n','路线一：' ,'\\n','用户点击后收藏占比：{:.2f}%'.format(pv_fav*100),'\\n' ,\n",
    "      '用户收藏后购买占比：{:.2f}%'.format(fav_buy*100),'\\n' ,'路线二：' ,'\\n',\n",
    "      '用户点击后加购物车占比：{:.2f}%'.format(pv_cart*100),'\\n' ,\n",
    "     '用户加购物车后购买占比：{:.2f}%'.format(cart_buy/cart*100))"
   ]
  },
  {
   "cell_type": "markdown",
   "metadata": {
    "slideshow": {
     "slide_type": "-"
    }
   },
   "source": [
    "- 用户在浏览后，相对于收藏行为(8.82%)，会更倾向于添加到购物车(21.23%)。而且购物车转化率为21.96%，收藏转化率为9.52%，购物车转化率比收藏转化率高，也就是说，用户更偏向于购物车购买。\n",
    "\n",
    "推测原因：\n",
    "<p> \n",
    "    加入购物车后可以直接下单购买，而加入收藏后并没有可以下单的页面，如果需要购买必须重新点击商品进入详情页才能下单，多了一个步骤，所以，在这个步骤里可能用户就流失了部分。"
   ]
  },
  {
   "cell_type": "markdown",
   "metadata": {
    "slideshow": {
     "slide_type": "slide"
    }
   },
   "source": [
    "### 4、参照RFM模型，对用户进行分类找出有价值的用户"
   ]
  },
  {
   "cell_type": "markdown",
   "metadata": {
    "slideshow": {
     "slide_type": "-"
    }
   },
   "source": [
    "#### RFM模型是衡量客户价值和客户创利能力的重要工具。该模型通过客户的最近交易行为（Recency）、交易频率（Frequency）以及交易金额（Monetary）三项指标来描述该客户的价值状况。一般来说，会将这三项指标分成几个区间进行评分，通过计算评分找到有价值的用户，并对用户进行分类。\n",
    "- 最近一次消费(Recency)：是指最近一次消费距离上一次消费之间的时间长短。它反映了客户对产品的态度以及对品牌价值的信任度，它关乎消费者的存留状况。\n",
    "- 消费频率(Frequency)：是指某个特定时间内消费的次数。它直接反映了客户的忠诚度，消费频率越高，忠诚度就越高；忠诚度越高的客户数量越多，公司的竞争优势越强，市场份额越大。\n",
    "- 消费金额(Monetary)：是指一定时间内消费某产品金额。它反映的是客户的价值，价值越高，给公司创造的利益就更大。\n",
    "因为数据源里没有金额相关的信息，所以只通过R和F来对客户价值进行评分。"
   ]
  },
  {
   "cell_type": "markdown",
   "metadata": {
    "slideshow": {
     "slide_type": "slide"
    }
   },
   "source": [
    "#### R(Recency)最近的购买行为：\n",
    "数据集里时间范围是从11月25到12月3日，我将11月25日，设为参数对照日期，即以距离11月25日的天数划分区间，其中0-2天，3-4天，5-6天，7-8天，分别对应为1-4分"
   ]
  },
  {
   "cell_type": "code",
   "execution_count": 46,
   "metadata": {
    "slideshow": {
     "slide_type": "-"
    }
   },
   "outputs": [
    {
     "data": {
      "text/html": [
       "<div>\n",
       "<style scoped>\n",
       "    .dataframe tbody tr th:only-of-type {\n",
       "        vertical-align: middle;\n",
       "    }\n",
       "\n",
       "    .dataframe tbody tr th {\n",
       "        vertical-align: top;\n",
       "    }\n",
       "\n",
       "    .dataframe thead th {\n",
       "        text-align: right;\n",
       "    }\n",
       "</style>\n",
       "<table border=\"1\" class=\"dataframe\">\n",
       "  <thead>\n",
       "    <tr style=\"text-align: right;\">\n",
       "      <th></th>\n",
       "      <th>user_id</th>\n",
       "      <th>item_id</th>\n",
       "      <th>category_id</th>\n",
       "      <th>behavior</th>\n",
       "      <th>date_time</th>\n",
       "      <th>date</th>\n",
       "      <th>time</th>\n",
       "      <th>hour</th>\n",
       "      <th>buy_days</th>\n",
       "    </tr>\n",
       "  </thead>\n",
       "  <tbody>\n",
       "    <tr>\n",
       "      <th>71</th>\n",
       "      <td>100</td>\n",
       "      <td>1603476</td>\n",
       "      <td>2951233</td>\n",
       "      <td>buy</td>\n",
       "      <td>2017-11-25 11:18:28</td>\n",
       "      <td>2017-11-25</td>\n",
       "      <td>11:18:28</td>\n",
       "      <td>11</td>\n",
       "      <td>0.0</td>\n",
       "    </tr>\n",
       "    <tr>\n",
       "      <th>73</th>\n",
       "      <td>100</td>\n",
       "      <td>2971043</td>\n",
       "      <td>4869428</td>\n",
       "      <td>buy</td>\n",
       "      <td>2017-11-25 21:45:49</td>\n",
       "      <td>2017-11-25</td>\n",
       "      <td>21:45:49</td>\n",
       "      <td>21</td>\n",
       "      <td>0.0</td>\n",
       "    </tr>\n",
       "    <tr>\n",
       "      <th>100</th>\n",
       "      <td>100</td>\n",
       "      <td>598929</td>\n",
       "      <td>2429887</td>\n",
       "      <td>buy</td>\n",
       "      <td>2017-11-27 13:10:58</td>\n",
       "      <td>2017-11-27</td>\n",
       "      <td>13:10:58</td>\n",
       "      <td>13</td>\n",
       "      <td>2.0</td>\n",
       "    </tr>\n",
       "    <tr>\n",
       "      <th>119</th>\n",
       "      <td>100</td>\n",
       "      <td>1046201</td>\n",
       "      <td>3002561</td>\n",
       "      <td>buy</td>\n",
       "      <td>2017-11-27 15:21:38</td>\n",
       "      <td>2017-11-27</td>\n",
       "      <td>15:21:38</td>\n",
       "      <td>15</td>\n",
       "      <td>2.0</td>\n",
       "    </tr>\n",
       "    <tr>\n",
       "      <th>125</th>\n",
       "      <td>100</td>\n",
       "      <td>1606258</td>\n",
       "      <td>4098232</td>\n",
       "      <td>buy</td>\n",
       "      <td>2017-11-27 21:39:00</td>\n",
       "      <td>2017-11-27</td>\n",
       "      <td>21:39:00</td>\n",
       "      <td>21</td>\n",
       "      <td>2.0</td>\n",
       "    </tr>\n",
       "  </tbody>\n",
       "</table>\n",
       "</div>"
      ],
      "text/plain": [
       "     user_id  item_id  category_id behavior           date_time        date  \\\n",
       "71       100  1603476      2951233      buy 2017-11-25 11:18:28  2017-11-25   \n",
       "73       100  2971043      4869428      buy 2017-11-25 21:45:49  2017-11-25   \n",
       "100      100   598929      2429887      buy 2017-11-27 13:10:58  2017-11-27   \n",
       "119      100  1046201      3002561      buy 2017-11-27 15:21:38  2017-11-27   \n",
       "125      100  1606258      4098232      buy 2017-11-27 21:39:00  2017-11-27   \n",
       "\n",
       "         time  hour  buy_days  \n",
       "71   11:18:28    11       0.0  \n",
       "73   21:45:49    21       0.0  \n",
       "100  13:10:58    13       2.0  \n",
       "119  15:21:38    15       2.0  \n",
       "125  21:39:00    21       2.0  "
      ]
     },
     "execution_count": 46,
     "metadata": {},
     "output_type": "execute_result"
    }
   ],
   "source": [
    "import time\n",
    "\n",
    "userbehavior3 = userbehavior[userbehavior['behavior']=='buy'].copy() #加购数据 \n",
    "start = pd.to_datetime(userbehavior3['date'])\n",
    "end =  pd.to_datetime('2017-11-25')\n",
    "userbehavior3 ['buy_days'] = (start-end)/pd.Timedelta(1, 'D')#购买日期离201 年11月25日的天数\n",
    "\n",
    "userbehavior3.head()"
   ]
  },
  {
   "cell_type": "code",
   "execution_count": 47,
   "metadata": {
    "slideshow": {
     "slide_type": "slide"
    }
   },
   "outputs": [
    {
     "data": {
      "text/html": [
       "<div>\n",
       "<style scoped>\n",
       "    .dataframe tbody tr th:only-of-type {\n",
       "        vertical-align: middle;\n",
       "    }\n",
       "\n",
       "    .dataframe tbody tr th {\n",
       "        vertical-align: top;\n",
       "    }\n",
       "\n",
       "    .dataframe thead th {\n",
       "        text-align: right;\n",
       "    }\n",
       "</style>\n",
       "<table border=\"1\" class=\"dataframe\">\n",
       "  <thead>\n",
       "    <tr style=\"text-align: right;\">\n",
       "      <th></th>\n",
       "      <th>user_id</th>\n",
       "      <th>item_id</th>\n",
       "      <th>category_id</th>\n",
       "      <th>behavior</th>\n",
       "      <th>date_time</th>\n",
       "      <th>date</th>\n",
       "      <th>time</th>\n",
       "      <th>hour</th>\n",
       "      <th>buy_days</th>\n",
       "      <th>R</th>\n",
       "    </tr>\n",
       "  </thead>\n",
       "  <tbody>\n",
       "    <tr>\n",
       "      <th>71</th>\n",
       "      <td>100</td>\n",
       "      <td>1603476</td>\n",
       "      <td>2951233</td>\n",
       "      <td>buy</td>\n",
       "      <td>2017-11-25 11:18:28</td>\n",
       "      <td>2017-11-25</td>\n",
       "      <td>11:18:28</td>\n",
       "      <td>11</td>\n",
       "      <td>0.0</td>\n",
       "      <td>1</td>\n",
       "    </tr>\n",
       "    <tr>\n",
       "      <th>73</th>\n",
       "      <td>100</td>\n",
       "      <td>2971043</td>\n",
       "      <td>4869428</td>\n",
       "      <td>buy</td>\n",
       "      <td>2017-11-25 21:45:49</td>\n",
       "      <td>2017-11-25</td>\n",
       "      <td>21:45:49</td>\n",
       "      <td>21</td>\n",
       "      <td>0.0</td>\n",
       "      <td>1</td>\n",
       "    </tr>\n",
       "    <tr>\n",
       "      <th>100</th>\n",
       "      <td>100</td>\n",
       "      <td>598929</td>\n",
       "      <td>2429887</td>\n",
       "      <td>buy</td>\n",
       "      <td>2017-11-27 13:10:58</td>\n",
       "      <td>2017-11-27</td>\n",
       "      <td>13:10:58</td>\n",
       "      <td>13</td>\n",
       "      <td>2.0</td>\n",
       "      <td>1</td>\n",
       "    </tr>\n",
       "    <tr>\n",
       "      <th>119</th>\n",
       "      <td>100</td>\n",
       "      <td>1046201</td>\n",
       "      <td>3002561</td>\n",
       "      <td>buy</td>\n",
       "      <td>2017-11-27 15:21:38</td>\n",
       "      <td>2017-11-27</td>\n",
       "      <td>15:21:38</td>\n",
       "      <td>15</td>\n",
       "      <td>2.0</td>\n",
       "      <td>1</td>\n",
       "    </tr>\n",
       "    <tr>\n",
       "      <th>125</th>\n",
       "      <td>100</td>\n",
       "      <td>1606258</td>\n",
       "      <td>4098232</td>\n",
       "      <td>buy</td>\n",
       "      <td>2017-11-27 21:39:00</td>\n",
       "      <td>2017-11-27</td>\n",
       "      <td>21:39:00</td>\n",
       "      <td>21</td>\n",
       "      <td>2.0</td>\n",
       "      <td>1</td>\n",
       "    </tr>\n",
       "    <tr>\n",
       "      <th>126</th>\n",
       "      <td>100</td>\n",
       "      <td>4840649</td>\n",
       "      <td>1029459</td>\n",
       "      <td>buy</td>\n",
       "      <td>2017-11-27 21:42:10</td>\n",
       "      <td>2017-11-27</td>\n",
       "      <td>21:42:10</td>\n",
       "      <td>21</td>\n",
       "      <td>2.0</td>\n",
       "      <td>1</td>\n",
       "    </tr>\n",
       "    <tr>\n",
       "      <th>128</th>\n",
       "      <td>100</td>\n",
       "      <td>251391</td>\n",
       "      <td>3738615</td>\n",
       "      <td>buy</td>\n",
       "      <td>2017-11-27 21:53:02</td>\n",
       "      <td>2017-11-27</td>\n",
       "      <td>21:53:02</td>\n",
       "      <td>21</td>\n",
       "      <td>2.0</td>\n",
       "      <td>1</td>\n",
       "    </tr>\n",
       "    <tr>\n",
       "      <th>136</th>\n",
       "      <td>100</td>\n",
       "      <td>4075065</td>\n",
       "      <td>2881542</td>\n",
       "      <td>buy</td>\n",
       "      <td>2017-11-28 09:51:17</td>\n",
       "      <td>2017-11-28</td>\n",
       "      <td>09:51:17</td>\n",
       "      <td>9</td>\n",
       "      <td>3.0</td>\n",
       "      <td>2</td>\n",
       "    </tr>\n",
       "    <tr>\n",
       "      <th>266</th>\n",
       "      <td>1000001</td>\n",
       "      <td>4088463</td>\n",
       "      <td>174239</td>\n",
       "      <td>buy</td>\n",
       "      <td>2017-12-03 09:22:53</td>\n",
       "      <td>2017-12-03</td>\n",
       "      <td>09:22:53</td>\n",
       "      <td>9</td>\n",
       "      <td>8.0</td>\n",
       "      <td>4</td>\n",
       "    </tr>\n",
       "    <tr>\n",
       "      <th>398</th>\n",
       "      <td>1000011</td>\n",
       "      <td>3991727</td>\n",
       "      <td>3108044</td>\n",
       "      <td>buy</td>\n",
       "      <td>2017-11-25 09:06:44</td>\n",
       "      <td>2017-11-25</td>\n",
       "      <td>09:06:44</td>\n",
       "      <td>9</td>\n",
       "      <td>0.0</td>\n",
       "      <td>1</td>\n",
       "    </tr>\n",
       "    <tr>\n",
       "      <th>437</th>\n",
       "      <td>1000011</td>\n",
       "      <td>404297</td>\n",
       "      <td>2578647</td>\n",
       "      <td>buy</td>\n",
       "      <td>2017-11-25 17:59:01</td>\n",
       "      <td>2017-11-25</td>\n",
       "      <td>17:59:01</td>\n",
       "      <td>17</td>\n",
       "      <td>0.0</td>\n",
       "      <td>1</td>\n",
       "    </tr>\n",
       "    <tr>\n",
       "      <th>563</th>\n",
       "      <td>100002</td>\n",
       "      <td>2976687</td>\n",
       "      <td>772894</td>\n",
       "      <td>buy</td>\n",
       "      <td>2017-11-30 20:08:10</td>\n",
       "      <td>2017-11-30</td>\n",
       "      <td>20:08:10</td>\n",
       "      <td>20</td>\n",
       "      <td>5.0</td>\n",
       "      <td>3</td>\n",
       "    </tr>\n",
       "    <tr>\n",
       "      <th>593</th>\n",
       "      <td>1000027</td>\n",
       "      <td>1934938</td>\n",
       "      <td>4718844</td>\n",
       "      <td>buy</td>\n",
       "      <td>2017-11-29 13:55:33</td>\n",
       "      <td>2017-11-29</td>\n",
       "      <td>13:55:33</td>\n",
       "      <td>13</td>\n",
       "      <td>4.0</td>\n",
       "      <td>2</td>\n",
       "    </tr>\n",
       "    <tr>\n",
       "      <th>609</th>\n",
       "      <td>1000027</td>\n",
       "      <td>3241094</td>\n",
       "      <td>3548883</td>\n",
       "      <td>buy</td>\n",
       "      <td>2017-12-03 23:15:02</td>\n",
       "      <td>2017-12-03</td>\n",
       "      <td>23:15:02</td>\n",
       "      <td>23</td>\n",
       "      <td>8.0</td>\n",
       "      <td>4</td>\n",
       "    </tr>\n",
       "    <tr>\n",
       "      <th>680</th>\n",
       "      <td>1000028</td>\n",
       "      <td>2621260</td>\n",
       "      <td>722945</td>\n",
       "      <td>buy</td>\n",
       "      <td>2017-11-29 13:52:07</td>\n",
       "      <td>2017-11-29</td>\n",
       "      <td>13:52:07</td>\n",
       "      <td>13</td>\n",
       "      <td>4.0</td>\n",
       "      <td>2</td>\n",
       "    </tr>\n",
       "    <tr>\n",
       "      <th>682</th>\n",
       "      <td>1000028</td>\n",
       "      <td>1910706</td>\n",
       "      <td>1516409</td>\n",
       "      <td>buy</td>\n",
       "      <td>2017-12-01 15:12:19</td>\n",
       "      <td>2017-12-01</td>\n",
       "      <td>15:12:19</td>\n",
       "      <td>15</td>\n",
       "      <td>6.0</td>\n",
       "      <td>3</td>\n",
       "    </tr>\n",
       "    <tr>\n",
       "      <th>705</th>\n",
       "      <td>1000028</td>\n",
       "      <td>863811</td>\n",
       "      <td>3338209</td>\n",
       "      <td>buy</td>\n",
       "      <td>2017-12-02 21:08:39</td>\n",
       "      <td>2017-12-02</td>\n",
       "      <td>21:08:39</td>\n",
       "      <td>21</td>\n",
       "      <td>7.0</td>\n",
       "      <td>4</td>\n",
       "    </tr>\n",
       "    <tr>\n",
       "      <th>710</th>\n",
       "      <td>1000028</td>\n",
       "      <td>3947413</td>\n",
       "      <td>634390</td>\n",
       "      <td>buy</td>\n",
       "      <td>2017-12-03 10:18:26</td>\n",
       "      <td>2017-12-03</td>\n",
       "      <td>10:18:26</td>\n",
       "      <td>10</td>\n",
       "      <td>8.0</td>\n",
       "      <td>4</td>\n",
       "    </tr>\n",
       "    <tr>\n",
       "      <th>769</th>\n",
       "      <td>1000037</td>\n",
       "      <td>4753136</td>\n",
       "      <td>890050</td>\n",
       "      <td>buy</td>\n",
       "      <td>2017-11-28 20:39:04</td>\n",
       "      <td>2017-11-28</td>\n",
       "      <td>20:39:04</td>\n",
       "      <td>20</td>\n",
       "      <td>3.0</td>\n",
       "      <td>2</td>\n",
       "    </tr>\n",
       "    <tr>\n",
       "      <th>770</th>\n",
       "      <td>1000037</td>\n",
       "      <td>3233631</td>\n",
       "      <td>890050</td>\n",
       "      <td>buy</td>\n",
       "      <td>2017-11-28 20:39:48</td>\n",
       "      <td>2017-11-28</td>\n",
       "      <td>20:39:48</td>\n",
       "      <td>20</td>\n",
       "      <td>3.0</td>\n",
       "      <td>2</td>\n",
       "    </tr>\n",
       "  </tbody>\n",
       "</table>\n",
       "</div>"
      ],
      "text/plain": [
       "     user_id  item_id  category_id behavior           date_time        date  \\\n",
       "71       100  1603476      2951233      buy 2017-11-25 11:18:28  2017-11-25   \n",
       "73       100  2971043      4869428      buy 2017-11-25 21:45:49  2017-11-25   \n",
       "100      100   598929      2429887      buy 2017-11-27 13:10:58  2017-11-27   \n",
       "119      100  1046201      3002561      buy 2017-11-27 15:21:38  2017-11-27   \n",
       "125      100  1606258      4098232      buy 2017-11-27 21:39:00  2017-11-27   \n",
       "126      100  4840649      1029459      buy 2017-11-27 21:42:10  2017-11-27   \n",
       "128      100   251391      3738615      buy 2017-11-27 21:53:02  2017-11-27   \n",
       "136      100  4075065      2881542      buy 2017-11-28 09:51:17  2017-11-28   \n",
       "266  1000001  4088463       174239      buy 2017-12-03 09:22:53  2017-12-03   \n",
       "398  1000011  3991727      3108044      buy 2017-11-25 09:06:44  2017-11-25   \n",
       "437  1000011   404297      2578647      buy 2017-11-25 17:59:01  2017-11-25   \n",
       "563   100002  2976687       772894      buy 2017-11-30 20:08:10  2017-11-30   \n",
       "593  1000027  1934938      4718844      buy 2017-11-29 13:55:33  2017-11-29   \n",
       "609  1000027  3241094      3548883      buy 2017-12-03 23:15:02  2017-12-03   \n",
       "680  1000028  2621260       722945      buy 2017-11-29 13:52:07  2017-11-29   \n",
       "682  1000028  1910706      1516409      buy 2017-12-01 15:12:19  2017-12-01   \n",
       "705  1000028   863811      3338209      buy 2017-12-02 21:08:39  2017-12-02   \n",
       "710  1000028  3947413       634390      buy 2017-12-03 10:18:26  2017-12-03   \n",
       "769  1000037  4753136       890050      buy 2017-11-28 20:39:04  2017-11-28   \n",
       "770  1000037  3233631       890050      buy 2017-11-28 20:39:48  2017-11-28   \n",
       "\n",
       "         time  hour  buy_days  R  \n",
       "71   11:18:28    11       0.0  1  \n",
       "73   21:45:49    21       0.0  1  \n",
       "100  13:10:58    13       2.0  1  \n",
       "119  15:21:38    15       2.0  1  \n",
       "125  21:39:00    21       2.0  1  \n",
       "126  21:42:10    21       2.0  1  \n",
       "128  21:53:02    21       2.0  1  \n",
       "136  09:51:17     9       3.0  2  \n",
       "266  09:22:53     9       8.0  4  \n",
       "398  09:06:44     9       0.0  1  \n",
       "437  17:59:01    17       0.0  1  \n",
       "563  20:08:10    20       5.0  3  \n",
       "593  13:55:33    13       4.0  2  \n",
       "609  23:15:02    23       8.0  4  \n",
       "680  13:52:07    13       4.0  2  \n",
       "682  15:12:19    15       6.0  3  \n",
       "705  21:08:39    21       7.0  4  \n",
       "710  10:18:26    10       8.0  4  \n",
       "769  20:39:04    20       3.0  2  \n",
       "770  20:39:48    20       3.0  2  "
      ]
     },
     "execution_count": 47,
     "metadata": {},
     "output_type": "execute_result"
    }
   ],
   "source": [
    "#购买天数与R评分的对应关系函数\n",
    "def R(n):\n",
    "    if n in [0,1,2]:\n",
    "        return 1\n",
    "    elif n in [3,4]:\n",
    "        return 2\n",
    "    elif n in[5,6]:\n",
    "        return 3\n",
    "    else:\n",
    "        return 4\n",
    "userbehavior3['R'] = userbehavior3['buy_days'].map(lambda x: R(x))\n",
    "userbehavior3.head(20)#查看前20条数据以检验"
   ]
  },
  {
   "cell_type": "code",
   "execution_count": 48,
   "metadata": {
    "slideshow": {
     "slide_type": "slide"
    }
   },
   "outputs": [
    {
     "data": {
      "text/plain": [
       "1    16188\n",
       "2     6908\n",
       "3     5303\n",
       "4     4887\n",
       "Name: R, dtype: int64"
      ]
     },
     "execution_count": 48,
     "metadata": {},
     "output_type": "execute_result"
    }
   ],
   "source": [
    "#不同R评分的用户数统计：\n",
    "df = userbehavior3.drop_duplicates(['user_id'])\n",
    "df['R'].value_counts()"
   ]
  },
  {
   "cell_type": "markdown",
   "metadata": {
    "slideshow": {
     "slide_type": "slide"
    }
   },
   "source": [
    "#### F(Frequency）购买频率：\n",
    "从上面对复购用户的分析中，我们也得知，有购买行为的用户，购买频率最高的能达到84次。所以，我们将1-84从低到高，划分为4个档次。1-21，22-42，43-63，64-84分别对应为1-4分。"
   ]
  },
  {
   "cell_type": "code",
   "execution_count": 49,
   "metadata": {
    "slideshow": {
     "slide_type": "-"
    }
   },
   "outputs": [
    {
     "data": {
      "text/html": [
       "<div>\n",
       "<style scoped>\n",
       "    .dataframe tbody tr th:only-of-type {\n",
       "        vertical-align: middle;\n",
       "    }\n",
       "\n",
       "    .dataframe tbody tr th {\n",
       "        vertical-align: top;\n",
       "    }\n",
       "\n",
       "    .dataframe thead th {\n",
       "        text-align: right;\n",
       "    }\n",
       "</style>\n",
       "<table border=\"1\" class=\"dataframe\">\n",
       "  <thead>\n",
       "    <tr style=\"text-align: right;\">\n",
       "      <th></th>\n",
       "      <th>re_user_id</th>\n",
       "      <th>user_id</th>\n",
       "    </tr>\n",
       "  </thead>\n",
       "  <tbody>\n",
       "    <tr>\n",
       "      <th>234304</th>\n",
       "      <td>84</td>\n",
       "      <td>234304</td>\n",
       "    </tr>\n",
       "    <tr>\n",
       "      <th>107932</th>\n",
       "      <td>72</td>\n",
       "      <td>107932</td>\n",
       "    </tr>\n",
       "    <tr>\n",
       "      <th>122504</th>\n",
       "      <td>69</td>\n",
       "      <td>122504</td>\n",
       "    </tr>\n",
       "    <tr>\n",
       "      <th>128379</th>\n",
       "      <td>65</td>\n",
       "      <td>128379</td>\n",
       "    </tr>\n",
       "    <tr>\n",
       "      <th>190873</th>\n",
       "      <td>61</td>\n",
       "      <td>190873</td>\n",
       "    </tr>\n",
       "    <tr>\n",
       "      <th>...</th>\n",
       "      <td>...</td>\n",
       "      <td>...</td>\n",
       "    </tr>\n",
       "    <tr>\n",
       "      <th>215625</th>\n",
       "      <td>1</td>\n",
       "      <td>215625</td>\n",
       "    </tr>\n",
       "    <tr>\n",
       "      <th>24893</th>\n",
       "      <td>1</td>\n",
       "      <td>24893</td>\n",
       "    </tr>\n",
       "    <tr>\n",
       "      <th>217610</th>\n",
       "      <td>1</td>\n",
       "      <td>217610</td>\n",
       "    </tr>\n",
       "    <tr>\n",
       "      <th>172532</th>\n",
       "      <td>1</td>\n",
       "      <td>172532</td>\n",
       "    </tr>\n",
       "    <tr>\n",
       "      <th>133121</th>\n",
       "      <td>1</td>\n",
       "      <td>133121</td>\n",
       "    </tr>\n",
       "  </tbody>\n",
       "</table>\n",
       "<p>33286 rows × 2 columns</p>\n",
       "</div>"
      ],
      "text/plain": [
       "        re_user_id  user_id\n",
       "234304          84   234304\n",
       "107932          72   107932\n",
       "122504          69   122504\n",
       "128379          65   128379\n",
       "190873          61   190873\n",
       "...            ...      ...\n",
       "215625           1   215625\n",
       "24893            1    24893\n",
       "217610           1   217610\n",
       "172532           1   172532\n",
       "133121           1   133121\n",
       "\n",
       "[33286 rows x 2 columns]"
      ]
     },
     "execution_count": 49,
     "metadata": {},
     "output_type": "execute_result"
    }
   ],
   "source": [
    "def F(n):  #购买次数与F评分的对应关系函数\n",
    "    if 1 <= n <=21:\n",
    "        return 1\n",
    "    elif 22 <= n <= 42:\n",
    "        return 2\n",
    "    elif 43 <= n <= 63:\n",
    "        return 3\n",
    "    else:\n",
    "        return 4\n",
    "    \n",
    "    \n",
    "rebuy = pd.DataFrame(userbehavior3['user_id'].value_counts())  #用户购买次数分类计数并划为dataframe结构\n",
    "rebuy.columns = ['re_user_id']  #更改列名\n",
    "rebuy['user_id'] = rebuy.index   #重建用户ID列\n",
    "rebuy"
   ]
  },
  {
   "cell_type": "code",
   "execution_count": 50,
   "metadata": {
    "slideshow": {
     "slide_type": "slide"
    }
   },
   "outputs": [
    {
     "data": {
      "text/html": [
       "<div>\n",
       "<style scoped>\n",
       "    .dataframe tbody tr th:only-of-type {\n",
       "        vertical-align: middle;\n",
       "    }\n",
       "\n",
       "    .dataframe tbody tr th {\n",
       "        vertical-align: top;\n",
       "    }\n",
       "\n",
       "    .dataframe thead th {\n",
       "        text-align: right;\n",
       "    }\n",
       "</style>\n",
       "<table border=\"1\" class=\"dataframe\">\n",
       "  <thead>\n",
       "    <tr style=\"text-align: right;\">\n",
       "      <th></th>\n",
       "      <th>re_user_id</th>\n",
       "      <th>user_id</th>\n",
       "      <th>item_id</th>\n",
       "      <th>category_id</th>\n",
       "      <th>behavior</th>\n",
       "      <th>date_time</th>\n",
       "      <th>date</th>\n",
       "      <th>time</th>\n",
       "      <th>hour</th>\n",
       "      <th>buy_days</th>\n",
       "      <th>R</th>\n",
       "      <th>F</th>\n",
       "    </tr>\n",
       "  </thead>\n",
       "  <tbody>\n",
       "    <tr>\n",
       "      <th>0</th>\n",
       "      <td>84</td>\n",
       "      <td>234304</td>\n",
       "      <td>2250064</td>\n",
       "      <td>3087458</td>\n",
       "      <td>buy</td>\n",
       "      <td>2017-11-26 22:24:14</td>\n",
       "      <td>2017-11-26</td>\n",
       "      <td>22:24:14</td>\n",
       "      <td>22</td>\n",
       "      <td>1.0</td>\n",
       "      <td>1</td>\n",
       "      <td>4</td>\n",
       "    </tr>\n",
       "    <tr>\n",
       "      <th>1</th>\n",
       "      <td>84</td>\n",
       "      <td>234304</td>\n",
       "      <td>2430157</td>\n",
       "      <td>767106</td>\n",
       "      <td>buy</td>\n",
       "      <td>2017-11-26 22:24:14</td>\n",
       "      <td>2017-11-26</td>\n",
       "      <td>22:24:14</td>\n",
       "      <td>22</td>\n",
       "      <td>1.0</td>\n",
       "      <td>1</td>\n",
       "      <td>4</td>\n",
       "    </tr>\n",
       "    <tr>\n",
       "      <th>2</th>\n",
       "      <td>84</td>\n",
       "      <td>234304</td>\n",
       "      <td>2779526</td>\n",
       "      <td>3087458</td>\n",
       "      <td>buy</td>\n",
       "      <td>2017-11-26 22:24:14</td>\n",
       "      <td>2017-11-26</td>\n",
       "      <td>22:24:14</td>\n",
       "      <td>22</td>\n",
       "      <td>1.0</td>\n",
       "      <td>1</td>\n",
       "      <td>4</td>\n",
       "    </tr>\n",
       "    <tr>\n",
       "      <th>3</th>\n",
       "      <td>84</td>\n",
       "      <td>234304</td>\n",
       "      <td>3998272</td>\n",
       "      <td>4565874</td>\n",
       "      <td>buy</td>\n",
       "      <td>2017-11-26 22:24:14</td>\n",
       "      <td>2017-11-26</td>\n",
       "      <td>22:24:14</td>\n",
       "      <td>22</td>\n",
       "      <td>1.0</td>\n",
       "      <td>1</td>\n",
       "      <td>4</td>\n",
       "    </tr>\n",
       "    <tr>\n",
       "      <th>4</th>\n",
       "      <td>84</td>\n",
       "      <td>234304</td>\n",
       "      <td>875095</td>\n",
       "      <td>3087458</td>\n",
       "      <td>buy</td>\n",
       "      <td>2017-11-26 22:24:14</td>\n",
       "      <td>2017-11-26</td>\n",
       "      <td>22:24:14</td>\n",
       "      <td>22</td>\n",
       "      <td>1.0</td>\n",
       "      <td>1</td>\n",
       "      <td>4</td>\n",
       "    </tr>\n",
       "  </tbody>\n",
       "</table>\n",
       "</div>"
      ],
      "text/plain": [
       "   re_user_id  user_id  item_id  category_id behavior           date_time  \\\n",
       "0          84   234304  2250064      3087458      buy 2017-11-26 22:24:14   \n",
       "1          84   234304  2430157       767106      buy 2017-11-26 22:24:14   \n",
       "2          84   234304  2779526      3087458      buy 2017-11-26 22:24:14   \n",
       "3          84   234304  3998272      4565874      buy 2017-11-26 22:24:14   \n",
       "4          84   234304   875095      3087458      buy 2017-11-26 22:24:14   \n",
       "\n",
       "         date      time  hour  buy_days  R  F  \n",
       "0  2017-11-26  22:24:14    22       1.0  1  4  \n",
       "1  2017-11-26  22:24:14    22       1.0  1  4  \n",
       "2  2017-11-26  22:24:14    22       1.0  1  4  \n",
       "3  2017-11-26  22:24:14    22       1.0  1  4  \n",
       "4  2017-11-26  22:24:14    22       1.0  1  4  "
      ]
     },
     "execution_count": 50,
     "metadata": {},
     "output_type": "execute_result"
    }
   ],
   "source": [
    "userbehavior3 = pd.merge(rebuy , userbehavior3 ,on='user_id')\n",
    "userbehavior3['F']= userbehavior3['re_user_id'].map(lambda x: F(x))\n",
    "userbehavior3.head()"
   ]
  },
  {
   "cell_type": "code",
   "execution_count": 51,
   "metadata": {
    "slideshow": {
     "slide_type": "-"
    }
   },
   "outputs": [
    {
     "data": {
      "text/plain": [
       "1    33202\n",
       "2       73\n",
       "3        7\n",
       "4        4\n",
       "Name: F, dtype: int64"
      ]
     },
     "execution_count": 51,
     "metadata": {},
     "output_type": "execute_result"
    }
   ],
   "source": [
    "#不同F评分的用户数统计：\n",
    "df = userbehavior3.drop_duplicates(['user_id'])\n",
    "df['F'].value_counts()"
   ]
  },
  {
   "cell_type": "markdown",
   "metadata": {
    "slideshow": {
     "slide_type": "slide"
    }
   },
   "source": [
    "#### 通过上面两个步骤，从两个维度：最近购买时间及购买频率，分别给用户进行了评分。接下来用这两项的每一项平均值作为判断高于还是低于，比如重要价值用户，必须是两项的分值都比平均值要高，才能作为重要价值的用户。\n",
    "\n",
    "下面对用户进行分类\n",
    "\n",
    "- R高F高：重要价值用户（最近购买且购买频率高）\n",
    "\n",
    "- R高F低：重要保持用户（最近购买且购买频率低）\n",
    "\n",
    "- R低F高：重要发展用户（很久没买了购买频率高）\n",
    "\n",
    "- R低F低：一般价值用户（很久没买了购买频率低）"
   ]
  },
  {
   "cell_type": "code",
   "execution_count": 52,
   "metadata": {
    "slideshow": {
     "slide_type": "slide"
    }
   },
   "outputs": [
    {
     "data": {
      "text/plain": [
       "2.42066892370994"
      ]
     },
     "execution_count": 52,
     "metadata": {},
     "output_type": "execute_result"
    }
   ],
   "source": [
    "r_mean = userbehavior3['R'].mean()#R的平均值\n",
    "r_mean"
   ]
  },
  {
   "cell_type": "code",
   "execution_count": 53,
   "metadata": {
    "slideshow": {
     "slide_type": "-"
    }
   },
   "outputs": [
    {
     "data": {
      "text/plain": [
       "1.035813084858835"
      ]
     },
     "execution_count": 53,
     "metadata": {},
     "output_type": "execute_result"
    }
   ],
   "source": [
    "f_mean = userbehavior3['F'].mean() #F的平均值\n",
    "f_mean"
   ]
  },
  {
   "cell_type": "code",
   "execution_count": 54,
   "metadata": {
    "slideshow": {
     "slide_type": "-"
    }
   },
   "outputs": [
    {
     "data": {
      "text/html": [
       "<div>\n",
       "<style scoped>\n",
       "    .dataframe tbody tr th:only-of-type {\n",
       "        vertical-align: middle;\n",
       "    }\n",
       "\n",
       "    .dataframe tbody tr th {\n",
       "        vertical-align: top;\n",
       "    }\n",
       "\n",
       "    .dataframe thead th {\n",
       "        text-align: right;\n",
       "    }\n",
       "</style>\n",
       "<table border=\"1\" class=\"dataframe\">\n",
       "  <thead>\n",
       "    <tr style=\"text-align: right;\">\n",
       "      <th></th>\n",
       "      <th>re_user_id</th>\n",
       "      <th>user_id</th>\n",
       "      <th>item_id</th>\n",
       "      <th>category_id</th>\n",
       "      <th>behavior</th>\n",
       "      <th>date_time</th>\n",
       "      <th>date</th>\n",
       "      <th>time</th>\n",
       "      <th>hour</th>\n",
       "      <th>buy_days</th>\n",
       "      <th>R</th>\n",
       "      <th>F</th>\n",
       "      <th>用户分类</th>\n",
       "    </tr>\n",
       "  </thead>\n",
       "  <tbody>\n",
       "    <tr>\n",
       "      <th>0</th>\n",
       "      <td>84</td>\n",
       "      <td>234304</td>\n",
       "      <td>2250064</td>\n",
       "      <td>3087458</td>\n",
       "      <td>buy</td>\n",
       "      <td>2017-11-26 22:24:14</td>\n",
       "      <td>2017-11-26</td>\n",
       "      <td>22:24:14</td>\n",
       "      <td>22</td>\n",
       "      <td>1.0</td>\n",
       "      <td>1</td>\n",
       "      <td>4</td>\n",
       "      <td>重要发展用户</td>\n",
       "    </tr>\n",
       "    <tr>\n",
       "      <th>1</th>\n",
       "      <td>84</td>\n",
       "      <td>234304</td>\n",
       "      <td>2430157</td>\n",
       "      <td>767106</td>\n",
       "      <td>buy</td>\n",
       "      <td>2017-11-26 22:24:14</td>\n",
       "      <td>2017-11-26</td>\n",
       "      <td>22:24:14</td>\n",
       "      <td>22</td>\n",
       "      <td>1.0</td>\n",
       "      <td>1</td>\n",
       "      <td>4</td>\n",
       "      <td>重要发展用户</td>\n",
       "    </tr>\n",
       "    <tr>\n",
       "      <th>2</th>\n",
       "      <td>84</td>\n",
       "      <td>234304</td>\n",
       "      <td>2779526</td>\n",
       "      <td>3087458</td>\n",
       "      <td>buy</td>\n",
       "      <td>2017-11-26 22:24:14</td>\n",
       "      <td>2017-11-26</td>\n",
       "      <td>22:24:14</td>\n",
       "      <td>22</td>\n",
       "      <td>1.0</td>\n",
       "      <td>1</td>\n",
       "      <td>4</td>\n",
       "      <td>重要发展用户</td>\n",
       "    </tr>\n",
       "    <tr>\n",
       "      <th>3</th>\n",
       "      <td>84</td>\n",
       "      <td>234304</td>\n",
       "      <td>3998272</td>\n",
       "      <td>4565874</td>\n",
       "      <td>buy</td>\n",
       "      <td>2017-11-26 22:24:14</td>\n",
       "      <td>2017-11-26</td>\n",
       "      <td>22:24:14</td>\n",
       "      <td>22</td>\n",
       "      <td>1.0</td>\n",
       "      <td>1</td>\n",
       "      <td>4</td>\n",
       "      <td>重要发展用户</td>\n",
       "    </tr>\n",
       "    <tr>\n",
       "      <th>4</th>\n",
       "      <td>84</td>\n",
       "      <td>234304</td>\n",
       "      <td>875095</td>\n",
       "      <td>3087458</td>\n",
       "      <td>buy</td>\n",
       "      <td>2017-11-26 22:24:14</td>\n",
       "      <td>2017-11-26</td>\n",
       "      <td>22:24:14</td>\n",
       "      <td>22</td>\n",
       "      <td>1.0</td>\n",
       "      <td>1</td>\n",
       "      <td>4</td>\n",
       "      <td>重要发展用户</td>\n",
       "    </tr>\n",
       "  </tbody>\n",
       "</table>\n",
       "</div>"
      ],
      "text/plain": [
       "   re_user_id  user_id  item_id  category_id behavior           date_time  \\\n",
       "0          84   234304  2250064      3087458      buy 2017-11-26 22:24:14   \n",
       "1          84   234304  2430157       767106      buy 2017-11-26 22:24:14   \n",
       "2          84   234304  2779526      3087458      buy 2017-11-26 22:24:14   \n",
       "3          84   234304  3998272      4565874      buy 2017-11-26 22:24:14   \n",
       "4          84   234304   875095      3087458      buy 2017-11-26 22:24:14   \n",
       "\n",
       "         date      time  hour  buy_days  R  F    用户分类  \n",
       "0  2017-11-26  22:24:14    22       1.0  1  4  重要发展用户  \n",
       "1  2017-11-26  22:24:14    22       1.0  1  4  重要发展用户  \n",
       "2  2017-11-26  22:24:14    22       1.0  1  4  重要发展用户  \n",
       "3  2017-11-26  22:24:14    22       1.0  1  4  重要发展用户  \n",
       "4  2017-11-26  22:24:14    22       1.0  1  4  重要发展用户  "
      ]
     },
     "execution_count": 54,
     "metadata": {},
     "output_type": "execute_result"
    }
   ],
   "source": [
    "userbehavior3['用户分类'] = np.select([(userbehavior3['R'] > r_mean ) & (userbehavior3['F'] > f_mean ),\n",
    "                                   (userbehavior3['R'] > r_mean ) & (userbehavior3['F'] <= f_mean ),\n",
    "                                   (userbehavior3['R'] < r_mean ) & (userbehavior3['F'] > f_mean),\n",
    "                                   (userbehavior3['R'] < r_mean) & (userbehavior3['F'] <= f_mean)],\n",
    "                                  ['重要价值用户','重要保持用户','重要发展用户','一般价值用户'])\n",
    "userbehavior3.head()"
   ]
  },
  {
   "cell_type": "code",
   "execution_count": 57,
   "metadata": {
    "slideshow": {
     "slide_type": "slide"
    }
   },
   "outputs": [
    {
     "data": {
      "text/plain": [
       "一般价值用户    23013\n",
       "重要保持用户    10189\n",
       "重要发展用户       83\n",
       "重要价值用户        1\n",
       "Name: 用户分类, dtype: int64"
      ]
     },
     "execution_count": 57,
     "metadata": {},
     "output_type": "execute_result"
    }
   ],
   "source": [
    "df = userbehavior3.drop_duplicates(['user_id'])\n",
    "df['用户分类'].value_counts()"
   ]
  },
  {
   "cell_type": "markdown",
   "metadata": {
    "slideshow": {
     "slide_type": "-"
    }
   },
   "source": [
    "- 对于重要价值用户，他们是最优质的用户，需要重点关注并保持， 应该提高满意度，增加留存；\n",
    "\n",
    "- 对于重要保持用户，他们最近有购买，但购买频率不高，可以通过活动等提高其购买频率；\n",
    "\n",
    "- 对于重要发展用户，他们虽然最近没有购买，但以往购买频率高，可以做触达，以防止流失；\n",
    "\n",
    "- 对于一般价值用户，他们最近没有购买，以往购买频率也不高，特别容易流失，所以应该赠送优惠券或推送活动信息，唤醒购买意愿。"
   ]
  },
  {
   "cell_type": "markdown",
   "metadata": {
    "slideshow": {
     "slide_type": "slide"
    }
   },
   "source": [
    "## 总结\n",
    "1.12月2日与12月3日，相对于其他日期，流量增长明显，双十一预热活动开始，周末宣称活动效果明显\n",
    "\n",
    "2.访客数与访问量在1-6时（大多数人处于睡眠休息阶段时）都较低，19 - 22时达到访问量高峰，猜测是下班后浏览购物网站放松。在10-18时用户数比较高，也很稳定，但该阶段访问量不高，可能是用户上班休息时间打开了淘宝但没时间大量浏览和购买商品，晚上是用户的访问高峰期。建议可以在用户活跃的时段进行推广以使运营效果最大化。\n",
    "\n",
    "3.这段时间，人均购买次数为3次，复购率达到65.8%，说明店铺产品对用户吸引力比较大。\n",
    "\n",
    "4.对于复购率高的商品，可将其作为主打商品进行宣称，同时可以建立自己的忠实粉丝群，实行更精准的人群管理。\n",
    "\n",
    "5.对于忠实用户，建议要更全面地了解，开发用户信息库，建立详实的用户资料数据库，追踪记录顾客的交易情况。或者线上组建VIP客户微信群等，针对这些用户的购买偏好推送更精准的销售方案。\n",
    "\n",
    "6.用户行为转化率只有2.2%，有97.8%的用户行为是没有转化为成交的，用户在浏览商品详情页后出现了大量的流失。建议通过活动、优惠券、产品详情页的改进等提高转化。\n",
    "\n",
    "7.从浏览到加入购物车的转化有21.23%，加入购物车到真正购买的，只有21.96%，有88%的用户加入购物车后却并没有进一步购买。\n",
    "\n",
    "建议在用户加入购物车后能有促进用户下单的利益“诱导”，如赠送优惠券或采用倒计时购物车增加客户购买紧近感。\n",
    "\n",
    "8.从收藏到购买的转化率为9.52%。相对于购物车21.96%的转化率，收藏转化率稍低。\n",
    "\n",
    "同样建议在用户添加收藏后能提示优惠或促销等时限信息，促使用户尽早下单。\n",
    "\n",
    "9.用RFM模型对用户进行分类后，可知重要价值用户比较少，用户类型主要还是集中于重要保持用户和一般价值用户。建议根据用户类型，进行有针对性的精准营销。"
   ]
  }
 ],
 "metadata": {
  "celltoolbar": "Slideshow",
  "hide_input": false,
  "kernelspec": {
   "display_name": "Python 3",
   "language": "python",
   "name": "python3"
  },
  "language_info": {
   "codemirror_mode": {
    "name": "ipython",
    "version": 3
   },
   "file_extension": ".py",
   "mimetype": "text/x-python",
   "name": "python",
   "nbconvert_exporter": "python",
   "pygments_lexer": "ipython3",
   "version": "3.7.0"
  }
 },
 "nbformat": 4,
 "nbformat_minor": 2
}
